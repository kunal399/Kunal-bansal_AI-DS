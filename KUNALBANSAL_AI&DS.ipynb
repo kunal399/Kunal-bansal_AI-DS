{
 "cells": [
  {
   "cell_type": "markdown",
   "id": "787ca358-0226-4f40-b4cd-8a7395b5eff6",
   "metadata": {},
   "source": [
    "# UNIT-1"
   ]
  },
  {
   "cell_type": "code",
   "execution_count": 32,
   "id": "d5b727ac-bfab-4d8b-9776-385278533460",
   "metadata": {},
   "outputs": [
    {
     "name": "stdin",
     "output_type": "stream",
     "text": [
      "Enter the number of elements in the list:  5\n"
     ]
    },
    {
     "name": "stdout",
     "output_type": "stream",
     "text": [
      "Enter the elements:\n"
     ]
    },
    {
     "name": "stdin",
     "output_type": "stream",
     "text": [
      "Enter element 1:  1\n",
      "Enter element 2:  2\n",
      "Enter element 3:  3\n",
      "Enter element 4:  4\n",
      "Enter element 5:  5\n",
      "Enter the element to search for:  6\n"
     ]
    },
    {
     "name": "stdout",
     "output_type": "stream",
     "text": [
      "Element 6 is not in the list.\n"
     ]
    }
   ],
   "source": [
    "#Write a Python Program to input the length of a series/list and create a list dynamically, Hence search from the list using Linear Search.\n",
    "n = int(input(\"Enter the number of elements in the list: \"))\n",
    "\n",
    "lst = []\n",
    "print(\"Enter the elements:\")\n",
    "for i in range(n):\n",
    "    element = int(input(f\"Enter element {i + 1}: \"))\n",
    "    lst.append(element)\n",
    "\n",
    "search_element = int(input(\"Enter the element to search for: \"))\n",
    "\n",
    "found = False\n",
    "for i in range(len(lst)):\n",
    "    if lst[i] == search_element:\n",
    "        print(f\"Element {search_element} found at position {i + 1}.\")\n",
    "        found = True\n",
    "        break\n",
    "\n",
    "if not found:\n",
    "    print(f\"Element {search_element} is not in the list.\")\n"
   ]
  },
  {
   "cell_type": "code",
   "execution_count": 33,
   "id": "addde147-a5f0-4c62-a999-ec929ce8fb7a",
   "metadata": {},
   "outputs": [
    {
     "name": "stdin",
     "output_type": "stream",
     "text": [
      "Enter the number of students:  2\n"
     ]
    },
    {
     "name": "stdout",
     "output_type": "stream",
     "text": [
      "\n",
      "Enter details for student:\n"
     ]
    },
    {
     "name": "stdin",
     "output_type": "stream",
     "text": [
      "Roll Number:  1234\n",
      "Name:  gttr\n",
      "Course ID:  12\n"
     ]
    },
    {
     "name": "stdout",
     "output_type": "stream",
     "text": [
      "\n",
      "Enter details for student:\n"
     ]
    },
    {
     "name": "stdin",
     "output_type": "stream",
     "text": [
      "Roll Number:  21\n",
      "Name:  es\n",
      "Course ID:  21\n",
      "\n",
      "Enter the Roll Number to find the Course ID:  2\n"
     ]
    },
    {
     "name": "stdout",
     "output_type": "stream",
     "text": [
      "Roll Number 2 not found.\n"
     ]
    }
   ],
   "source": [
    "#Write a Python Program to create a Dictionary for every students data which may include the Name, Rollno, and Course ID. Hence create for the rollno and output the course ID\n",
    "students = {}\n",
    "\n",
    "n = int(input(\"Enter the number of students: \"))\n",
    "\n",
    "for _ in range(n):\n",
    "    print(\"\\nEnter details for student:\")\n",
    "    roll_no = input(\"Roll Number: \")\n",
    "    name = input(\"Name: \")\n",
    "    course_id = input(\"Course ID: \")\n",
    "\n",
    "    students[roll_no] = {\"Name\": name, \"Course ID\": course_id}\n",
    "\n",
    "search_roll_no = input(\"\\nEnter the Roll Number to find the Course ID: \")\n",
    "\n",
    "if search_roll_no in students:\n",
    "    print(f\"Course ID for Roll Number {search_roll_no}: {students[search_roll_no]['Course ID']}\")\n",
    "else:\n",
    "    print(f\"Roll Number {search_roll_no} not found.\")\n"
   ]
  },
  {
   "cell_type": "code",
   "execution_count": 15,
   "id": "93edb987-6b9c-4538-aaf1-f9d97ffa8cb2",
   "metadata": {},
   "outputs": [
    {
     "name": "stdout",
     "output_type": "stream",
     "text": [
      "menu\n",
      "1 - Pasta:Rs.449\n",
      "2 - Pizza:Rs.349\n",
      "3 - Burger:Rs.199\n",
      "4 - Sandwich:Rs.149\n",
      "5 - Coke:Rs.49\n"
     ]
    },
    {
     "name": "stdin",
     "output_type": "stream",
     "text": [
      "Enter the dish you want to order (or press0 to finish): 0\n"
     ]
    },
    {
     "name": "stdout",
     "output_type": "stream",
     "text": [
      "Your total bill is:Rs.0\n"
     ]
    }
   ],
   "source": [
    "#Write a python program that display a menu with item prices lets the user select item to add to their order and show the total bill when they finish\n",
    "menu=[\n",
    "    {\"Name\":\"Pasta\",\"Price\":449},\n",
    "    {\"Name\":\"Pizza\",\"Price\":349},\n",
    "    {\"Name\":\"Burger\",\"Price\":199},\n",
    "    {\"Name\":\"Sandwich\",\"Price\":149},\n",
    "    {\"Name\":\"Coke\",\"Price\":49}\n",
    "]\n",
    "total_bill=0\n",
    "print('menu')\n",
    "c=1\n",
    "for item in range(len(menu)):\n",
    "    print(f\"{c} - {menu[item]['Name']}:Rs.{menu[item]['Price']}\")\n",
    "    c=c+1\n",
    "while 1==1:\n",
    "    choice=int(input(\"Enter the dish you want to order (or press0 to finish):\"))\n",
    "    if choice==0:\n",
    "        break\n",
    "    elif choice in range(1,len(menu)+1):\n",
    "        total_bill+=menu[choice-1]['Price']\n",
    "        print(f\"{menu[choice - 1]['Name']} added to your bill. Current total: Rs.{total_bill}\")\n",
    "    else:\n",
    "        print(\"Dish not found in the menu. Please try again.\")\n",
    "print(f\"Your total bill is:Rs.{total_bill}\")"
   ]
  },
  {
   "cell_type": "code",
   "execution_count": 31,
   "id": "d5978d62-6d78-4b77-b10c-d95dcd80a066",
   "metadata": {},
   "outputs": [
    {
     "name": "stdout",
     "output_type": "stream",
     "text": [
      "ATM\n"
     ]
    },
    {
     "name": "stdin",
     "output_type": "stream",
     "text": [
      "Enter your A/c number: 1234567890\n",
      "Enter your ATM PIN 1234\n"
     ]
    },
    {
     "name": "stdout",
     "output_type": "stream",
     "text": [
      "Login successful!\n",
      "1. Check Balance\n",
      "2. Deposit Money\n",
      "3. Withdraw Money\n",
      "4. Exit\n"
     ]
    },
    {
     "name": "stdin",
     "output_type": "stream",
     "text": [
      "Enter a number of an option 4\n"
     ]
    },
    {
     "name": "stdout",
     "output_type": "stream",
     "text": [
      "Thank you for using our ATM!\n"
     ]
    }
   ],
   "source": [
    "#create a basic ATM program tht allows user to check their balance, deposit money and withdraw money ensuring they dont withdraw more than they have.\n",
    "ATM=[\n",
    "    {\"A/cNo.\":1234567890,\"Amount\":1500000,\"ATMPIN\":1234},\n",
    "    {\"A/cNo.\":1987654321,\"Amount\":1000,\"ATMPIN\":4321}\n",
    "]\n",
    "print('ATM')\n",
    "account=0\n",
    "a=int(input(\"Enter your A/c number:\"))\n",
    "Pin=int(input(\"Enter your ATM PIN\"))\n",
    "for ac in ATM:\n",
    "    if ac['A/cNo.']==a and ac['ATMPIN']==Pin:\n",
    "        account=ac\n",
    "    break\n",
    "if account:\n",
    "    print(\"Login successful!\")\n",
    "    while 1==1:\n",
    "        print(\"1. Check Balance\")\n",
    "        print(\"2. Deposit Money\")\n",
    "        print(\"3. Withdraw Money\")\n",
    "        print(\"4. Exit\")\n",
    "        choice=int(input(\"Enter a number of an option\"))\n",
    "        \n",
    "        if choice==1:\n",
    "            print(f\"Balance is: Rs.{account['Amount']}\")\n",
    "            \n",
    "        elif choice==2:\n",
    "            deposit=int(input(\"Please add some deposit:\"))\n",
    "            \n",
    "            if deposit>0:\n",
    "                account['Amount']+=deposit\n",
    "                print(f\"deposit Rs.{deposit}.Newbalance: Rs.{account['Amount']}\")\n",
    "            else:\n",
    "                print(\"Invalid amount\")\n",
    "                \n",
    "        elif choice == 3:\n",
    "            withdraw=int(input(\"Please withdraw some amount:\"))\n",
    "            \n",
    "            if withdraw>account['Amount']:\n",
    "                print(\"Balance is Insuffient.\")\n",
    "            elif withdraw<=0:\n",
    "                print(\"Please enter accurate amount\")\n",
    "            else:\n",
    "              account[\"Amount\"] -= withdraw \n",
    "              print(f\"Withraw Rs.{withdraw}.Newbalance: Rs.{account['Amount']}\")\n",
    "                \n",
    "        elif choice == 4:\n",
    "            print(\"Thank you for using our ATM!\")\n",
    "            break\n",
    "            \n",
    "        else:\n",
    "            print(\"Invalid option.\")\n",
    "else:\n",
    "    print(\"Invalid account number or PIN!\")"
   ]
  },
  {
   "cell_type": "markdown",
   "id": "e3a1d63d-dc5a-4dcb-b99b-777efd6ff65d",
   "metadata": {},
   "source": [
    "# UNIT-2"
   ]
  },
  {
   "cell_type": "code",
   "execution_count": 1,
   "id": "689dac23-e785-45da-a4d2-31060005b797",
   "metadata": {},
   "outputs": [
    {
     "name": "stdout",
     "output_type": "stream",
     "text": [
      "Hello World\n"
     ]
    }
   ],
   "source": [
    "#Write a Python Program to Print \"Hello World\"\n",
    "print(\"Hello World\")"
   ]
  },
  {
   "cell_type": "code",
   "execution_count": 34,
   "id": "b732cb85-9a1c-4bbf-86d6-61bb2299d4a3",
   "metadata": {},
   "outputs": [
    {
     "name": "stdin",
     "output_type": "stream",
     "text": [
      "Enter the first number:  21\n",
      "Enter the second number:  54\n"
     ]
    },
    {
     "name": "stdout",
     "output_type": "stream",
     "text": [
      "Addition:  75.0\n",
      "Subtraction:  -33.0\n",
      "Multiplication:  1134.0\n",
      "Division:  0.3888888888888889\n",
      "Modulus:  21.0\n",
      "Exponent:  2.510972264430989e+71\n"
     ]
    }
   ],
   "source": [
    "#Write a Python Program to Input two numbers and perform all operations\n",
    "num1 = float(input(\"Enter the first number: \"))\n",
    "num2 = float(input(\"Enter the second number: \"))\n",
    "\n",
    "\n",
    "addition = num1 + num2\n",
    "subtraction = num1 - num2\n",
    "multiplication = num1 * num2\n",
    "division = num1 / num2\n",
    "modulus = num1 % num2\n",
    "exponent = num1 ** num2 \n",
    "\n",
    "print(\"Addition: \", addition)\n",
    "print(\"Subtraction: \", subtraction)\n",
    "print(\"Multiplication: \", multiplication)\n",
    "print(\"Division: \", division)\n",
    "print(\"Modulus: \",modulus)\n",
    "print(\"Exponent: \",exponent)\n"
   ]
  },
  {
   "cell_type": "code",
   "execution_count": 4,
   "id": "31467503-280e-4946-a41a-5bf3fe690b89",
   "metadata": {},
   "outputs": [
    {
     "name": "stdin",
     "output_type": "stream",
     "text": [
      "Enter a number:  7\n"
     ]
    },
    {
     "name": "stdout",
     "output_type": "stream",
     "text": [
      "Number is odd 7\n"
     ]
    }
   ],
   "source": [
    "#Write a Python program to check weather a number is even or odd \n",
    "num = int(input(\"Enter a number: \"))\n",
    "if num % 2 == 0:\n",
    "    print(\"Number is Even\",num)\n",
    "else:\n",
    "    print(\"Number is odd\",num)"
   ]
  },
  {
   "cell_type": "code",
   "execution_count": 7,
   "id": "dbed85fe-fad0-4d8e-97f4-3afd5a65c0d1",
   "metadata": {},
   "outputs": [
    {
     "name": "stdin",
     "output_type": "stream",
     "text": [
      "Enter a number:  9\n"
     ]
    },
    {
     "name": "stdout",
     "output_type": "stream",
     "text": [
      "Divisible by 3\n",
      "It is not divisible by 5.\n"
     ]
    }
   ],
   "source": [
    "#Write a Python Program to check weather the number is divisible by 3 or not, also if the number is divisible by 3 check weather it is also Divisible by 5 also.\n",
    "num = int(input(\"Enter a number: \"))\n",
    "if num % 3 == 0:\n",
    "    print(\"Divisible by 3\")\n",
    "    if num % 5 == 0:\n",
    "        print(\"It also divisible by 5.\")\n",
    "    else:\n",
    "        print(\"It is not divisible by 5.\")\n",
    "else:\n",
    "    print(\"It is not divisible by 3.\")"
   ]
  },
  {
   "cell_type": "code",
   "execution_count": 24,
   "id": "c9b2df3b-8191-4d45-aaff-f40351f71a42",
   "metadata": {},
   "outputs": [
    {
     "name": "stdout",
     "output_type": "stream",
     "text": [
      "Even numbers from 1 to 100 are:\n",
      "2 4 6 8 10 12 14 16 18 20 22 24 26 28 30 32 34 36 38 40 42 44 46 48 50 52 54 56 58 60 62 64 66 68 70 72 74 76 78 80 82 84 86 88 90 92 94 96 98 100 "
     ]
    }
   ],
   "source": [
    "#Write a Python Program to print all Even Numbers from 1 to 100\n",
    "print(\"Even numbers from 1 to 100 are:\")\n",
    "for i in range(1, 101):\n",
    "    if i % 2 == 0:\n",
    "        print(i, end=\" \")\n"
   ]
  },
  {
   "cell_type": "code",
   "execution_count": 36,
   "id": "be364f80-ba88-4822-870d-78913899709c",
   "metadata": {},
   "outputs": [
    {
     "name": "stdin",
     "output_type": "stream",
     "text": [
      "Enter the number:  43\n"
     ]
    },
    {
     "name": "stdout",
     "output_type": "stream",
     "text": [
      "The reverse number is:  34\n",
      "The number is not a palindrome\n"
     ]
    }
   ],
   "source": [
    "#Write a Python Program to input a number a number and check weather it's Palindrome or Not\n",
    "number = int(input(\"Enter the number: \"))\n",
    "temp = number\n",
    "reverse =0\n",
    " \n",
    "while (number > 0):\n",
    "    dig = number % 10\n",
    "    reverse = reverse * 10 + dig\n",
    "    number = number // 10\n",
    " \n",
    "print(\"The reverse number is: \", reverse)\n",
    " \n",
    "if temp==reverse:\n",
    "    print(\"The number is a palindrome\")\n",
    "else:\n",
    "    print(\"The number is not a palindrome\") "
   ]
  },
  {
   "cell_type": "code",
   "execution_count": 16,
   "id": "315e1330-abb9-48e1-af1b-00e6d1e7b8bb",
   "metadata": {},
   "outputs": [
    {
     "name": "stdout",
     "output_type": "stream",
     "text": [
      "*\n",
      "**\n",
      "***\n",
      "****\n",
      "*****\n"
     ]
    }
   ],
   "source": [
    "#Write a Python Program to Print this Patterm.\n",
    "for i in range(0,5):\n",
    "    for j in range(0,i+1):\n",
    "        print(\"*\",end=\"\")\n",
    "    print(\"\")"
   ]
  },
  {
   "cell_type": "code",
   "execution_count": 18,
   "id": "c6217678-cace-45c3-8af3-879033a2ee30",
   "metadata": {},
   "outputs": [
    {
     "name": "stdout",
     "output_type": "stream",
     "text": [
      "**********\n",
      "**********\n",
      "**********\n",
      "**********\n",
      "**********\n"
     ]
    }
   ],
   "source": [
    "#Write a Python Program to Print this Patterm.\n",
    "rows = 5\n",
    "columns = 10\n",
    "for i in range(rows):\n",
    "    print(\"*\" * columns)"
   ]
  },
  {
   "cell_type": "code",
   "execution_count": 21,
   "id": "58697d16-3513-45b3-8495-e95de2d50854",
   "metadata": {},
   "outputs": [
    {
     "name": "stdout",
     "output_type": "stream",
     "text": [
      "Before swapping:\n",
      "a = 5\n",
      "b = 10\n",
      "\n",
      "After swapping:\n",
      "a = 10\n",
      "b = 5\n"
     ]
    }
   ],
   "source": [
    "#Write a Python Program to swap two numbers using 3rd Variable.\n",
    "a = 5\n",
    "b = 10\n",
    "\n",
    "print(\"Before swapping:\")\n",
    "print(\"a =\", a)\n",
    "print(\"b =\", b)\n",
    "\n",
    "temp = a\n",
    "a = b\n",
    "b = temp\n",
    "\n",
    "print(\"\\nAfter swapping:\")\n",
    "print(\"a =\", a)\n",
    "print(\"b =\", b)"
   ]
  },
  {
   "cell_type": "code",
   "execution_count": 22,
   "id": "c37643bc-2af9-4dd4-bb7d-c7916bd4a360",
   "metadata": {},
   "outputs": [
    {
     "name": "stdout",
     "output_type": "stream",
     "text": [
      "Before swapping:\n",
      "a = 5\n",
      "b = 10\n",
      "\n",
      "After swapping:\n",
      "a = 10\n",
      "b = 5\n"
     ]
    }
   ],
   "source": [
    "#Write a Python Program to swap two numbers without using another 3rd variable.\n",
    "\n",
    "a = 5\n",
    "b = 10\n",
    "\n",
    "print(\"Before swapping:\")\n",
    "print(\"a =\", a)\n",
    "print(\"b =\", b)\n",
    "\n",
    "\n",
    "a = a + b\n",
    "b = a - b\n",
    "a = a - b\n",
    "\n",
    "print(\"\\nAfter swapping:\")\n",
    "print(\"a =\", a)\n",
    "print(\"b =\", b)"
   ]
  },
  {
   "cell_type": "code",
   "execution_count": 23,
   "id": "33e886c6-4fad-46ea-ac56-64aa16ecce10",
   "metadata": {},
   "outputs": [
    {
     "name": "stdout",
     "output_type": "stream",
     "text": [
      "Before swapping:\n",
      "a = 5\n",
      "b = 10\n",
      "\n",
      "After swapping:\n",
      "a = 10\n",
      "b = 5\n"
     ]
    }
   ],
   "source": [
    "#Write a Python Program to swap two numbers using using a Single Line \n",
    "a = 5\n",
    "b = 10\n",
    "\n",
    "print(\"Before swapping:\")\n",
    "print(\"a =\", a)\n",
    "print(\"b =\", b)\n",
    "\n",
    "a, b = b, a\n",
    "\n",
    "print(\"\\nAfter swapping:\")\n",
    "print(\"a =\", a)\n",
    "print(\"b =\", b)"
   ]
  },
  {
   "cell_type": "markdown",
   "id": "4c454250-49ad-45bd-adf8-6df4527726a7",
   "metadata": {},
   "source": [
    "# UNIT-3"
   ]
  },
  {
   "cell_type": "code",
   "execution_count": 37,
   "id": "b423fec9-cd99-4a6a-9ad1-9dda7803c47f",
   "metadata": {},
   "outputs": [
    {
     "name": "stdin",
     "output_type": "stream",
     "text": [
      "Enter number from user 5\n"
     ]
    },
    {
     "name": "stdout",
     "output_type": "stream",
     "text": [
      "0 1 1 2 3 "
     ]
    }
   ],
   "source": [
    "#Write a Python Program to print Fibonacci Series.\n",
    "def fibo(n):\n",
    "    a=0\n",
    "    b=1\n",
    "    for i in range(n):\n",
    "        print(a,end=\" \")\n",
    "        a,b=b,b+a\n",
    "z=int(input(\"Enter number from user\"))\n",
    "fibo(z)"
   ]
  },
  {
   "cell_type": "code",
   "execution_count": 38,
   "id": "772059a0-1ae0-49c6-b4dc-ea5891316c29",
   "metadata": {},
   "outputs": [
    {
     "name": "stdin",
     "output_type": "stream",
     "text": [
      "Enter number 5\n"
     ]
    },
    {
     "name": "stdout",
     "output_type": "stream",
     "text": [
      "5 X 1 = 5\n",
      "5 X 2 = 10\n",
      "5 X 3 = 15\n",
      "5 X 4 = 20\n",
      "5 X 5 = 25\n",
      "5 X 6 = 30\n",
      "5 X 7 = 35\n",
      "5 X 8 = 40\n",
      "5 X 9 = 45\n",
      "5 X 10 = 50\n"
     ]
    }
   ],
   "source": [
    "#To print the table of any number given by the user\n",
    "def tab(a,b):\n",
    "    return a*b\n",
    "num=int(input(\"Enter number\"))\n",
    "for i in range(1,11):\n",
    "    print(f\"{num} X {i} = {tab(num,i)}\")"
   ]
  },
  {
   "cell_type": "code",
   "execution_count": 19,
   "id": "cdddb783-cd8f-420f-99b7-c7788cb74bda",
   "metadata": {},
   "outputs": [
    {
     "name": "stdout",
     "output_type": "stream",
     "text": [
      "Select operation.\n",
      "1.Add\n",
      "2.Subtract\n",
      "3.Multiply\n",
      "4.Divide\n",
      "5.Exit\n"
     ]
    },
    {
     "name": "stdin",
     "output_type": "stream",
     "text": [
      "Enter number 1 3\n",
      "Enter number 2 4\n",
      "Enter choice(1/2/3/4/5):  4\n",
      "Enter number 1 54\n",
      "Enter number 2 45\n"
     ]
    },
    {
     "name": "stdout",
     "output_type": "stream",
     "text": [
      "54 / 45 = 1.2\n"
     ]
    },
    {
     "name": "stdin",
     "output_type": "stream",
     "text": [
      "Enter choice(1/2/3/4/5):  5\n"
     ]
    },
    {
     "name": "stdout",
     "output_type": "stream",
     "text": [
      "Thank you for using\n"
     ]
    }
   ],
   "source": [
    "#write a python program to create function for every mathematical operations and create calculator using the same \n",
    "def add(a,b):\n",
    "    return a+b\n",
    "def sub(a,b):\n",
    "    return a-b\n",
    "def multiply(a,b):\n",
    "    return a*b\n",
    "def divide(a,b):\n",
    "    return a/b\n",
    "\n",
    "print(\"Select operation.\")\n",
    "print(\"1.Add\")\n",
    "print(\"2.Subtract\")\n",
    "print(\"3.Multiply\")\n",
    "print(\"4.Divide\")\n",
    "print(\"5.Exit\")\n",
    "\n",
    "while 1==1:\n",
    "    \n",
    "    choice = input(\"Enter choice(1/2/3/4/5): \")\n",
    "    \n",
    "    if choice in ('1', '2', '3', '4','5'):\n",
    "        \n",
    "        if choice == '1':\n",
    "            num1=int(input(\"Enter number 1\"))\n",
    "            num2=int(input(\"Enter number 2\"))\n",
    "            print(num1, \"+\", num2, \"=\", add(num1, num2))\n",
    "\n",
    "        elif choice == '2':\n",
    "            num1=int(input(\"Enter number 1\"))\n",
    "            num2=int(input(\"Enter number 2\"))\n",
    "            print(num1, \"-\", num2, \"=\", sub(num1, num2))\n",
    "\n",
    "        elif choice == '3':\n",
    "            num1=int(input(\"Enter number 1\"))\n",
    "            num2=int(input(\"Enter number 2\"))\n",
    "            print(num1, \"*\", num2, \"=\", multiply(num1, num2))\n",
    "\n",
    "        elif choice == '4':\n",
    "            num1=int(input(\"Enter number 1\"))\n",
    "            num2=int(input(\"Enter number 2\"))\n",
    "            print(num1, \"/\", num2, \"=\", divide(num1, num2))\n",
    "            \n",
    "        elif choice == '5':\n",
    "            print(\"Thank you for using\")\n",
    "            break\n",
    "            \n",
    "    else:\n",
    "        print(\"Invalid Input\")"
   ]
  },
  {
   "cell_type": "code",
   "execution_count": 25,
   "id": "7cd145e0-57e1-4e51-affb-19548274561b",
   "metadata": {},
   "outputs": [
    {
     "name": "stdin",
     "output_type": "stream",
     "text": [
      "Enter a number:  45\n"
     ]
    },
    {
     "name": "stdout",
     "output_type": "stream",
     "text": [
      "The number 45 is Odd.\n"
     ]
    }
   ],
   "source": [
    "#Write a Python Program to create a function weather a number is Even and Odd.\n",
    "def check(number):\n",
    "    if number % 2 == 0:\n",
    "        return \"Even\"\n",
    "    else:\n",
    "        return \"Odd\"\n",
    "\n",
    "num = int(input(\"Enter a number: \"))\n",
    "\n",
    "result = check(num)\n",
    "print(f\"The number {num} is {result}.\")\n"
   ]
  },
  {
   "cell_type": "code",
   "execution_count": 39,
   "id": "dc958c69-efc8-41f1-aacc-2b6d1e7b46f9",
   "metadata": {},
   "outputs": [
    {
     "name": "stdin",
     "output_type": "stream",
     "text": [
      "Enter a number:  4\n"
     ]
    },
    {
     "name": "stdout",
     "output_type": "stream",
     "text": [
      "The factorial of 4 is: 24\n"
     ]
    }
   ],
   "source": [
    "#Write a Python Program to Create a function that outputs Factorials of a number without using Recursion.\n",
    "def factorial(number):\n",
    "    result = 1\n",
    "    for i in range(1, number + 1):\n",
    "        result *= i\n",
    "    return result\n",
    "\n",
    "num = int(input(\"Enter a number: \"))\n",
    "\n",
    "if num < 0:\n",
    "    print(\"Factorial is not defined for negative numbers.\")\n",
    "else:\n",
    "    print(f\"The factorial of {num} is: {factorial(num)}\")\n"
   ]
  },
  {
   "cell_type": "code",
   "execution_count": 26,
   "id": "da765096-4391-4e68-8061-e75d7b9cdc39",
   "metadata": {},
   "outputs": [
    {
     "name": "stdin",
     "output_type": "stream",
     "text": [
      "Enter the number of elements:  5\n",
      "Enter number 1:  1\n",
      "Enter number 2:  2\n",
      "Enter number 3:  3\n",
      "Enter number 4:  4\n",
      "Enter number 5:  5\n"
     ]
    },
    {
     "name": "stdout",
     "output_type": "stream",
     "text": [
      "\n",
      "Sum: 15.0\n",
      "Product: 120.0\n",
      "Average: 3.0\n"
     ]
    }
   ],
   "source": [
    "#Write a Python Program to create a function that inputs any number of parameters and outputs Sum, Product and Average.\n",
    "def calculate_stats(*numbers):\n",
    "    total = sum(numbers)  \n",
    "    product = 1           \n",
    "    for num in numbers:\n",
    "        product *= num    \n",
    "    average = total / len(numbers)  \n",
    "    return total, product, average\n",
    "\n",
    "\n",
    "nums = []  \n",
    "n = int(input(\"Enter the number of elements: \"))  \n",
    "for i in range(n):\n",
    "    num = float(input(f\"Enter number {i + 1}: \"))  \n",
    "    nums.append(num)  \n",
    "\n",
    "total, product, average = calculate_stats(*nums)\n",
    "print(f\"\\nSum: {total}\")\n",
    "print(f\"Product: {product}\")\n",
    "print(f\"Average: {average}\")"
   ]
  },
  {
   "cell_type": "code",
   "execution_count": 27,
   "id": "ec50b778-967f-4b79-83cb-dff64da65b2f",
   "metadata": {},
   "outputs": [
    {
     "name": "stdin",
     "output_type": "stream",
     "text": [
      "Enter the first number:  3\n",
      "Enter the second number:  4\n"
     ]
    },
    {
     "name": "stdout",
     "output_type": "stream",
     "text": [
      "The sum of 3 and 4 is: 7\n"
     ]
    }
   ],
   "source": [
    "#Write a Python Program to create a Function that print a Sum of two numbers\n",
    "def sum(a, b):\n",
    "    total = a + b\n",
    "    print(f\"The sum of {a} and {b} is: {total}\")\n",
    "\n",
    "num1 = int(input(\"Enter the first number: \"))\n",
    "num2 = int(input(\"Enter the second number: \"))\n",
    "\n",
    "sum(num1, num2)"
   ]
  }
 ],
 "metadata": {
  "kernelspec": {
   "display_name": "Python 3 (ipykernel)",
   "language": "python",
   "name": "python3"
  },
  "language_info": {
   "codemirror_mode": {
    "name": "ipython",
    "version": 3
   },
   "file_extension": ".py",
   "mimetype": "text/x-python",
   "name": "python",
   "nbconvert_exporter": "python",
   "pygments_lexer": "ipython3",
   "version": "3.11.7"
  }
 },
 "nbformat": 4,
 "nbformat_minor": 5
}
